{
  "nbformat": 4,
  "nbformat_minor": 0,
  "metadata": {
    "colab": {
      "name": "CNN.ipynb",
      "provenance": [],
      "authorship_tag": "ABX9TyN/5unJJ8Ne0UdHZbNFKg5G",
      "include_colab_link": true
    },
    "kernelspec": {
      "name": "python3",
      "display_name": "Python 3"
    },
    "language_info": {
      "name": "python"
    },
    "accelerator": "GPU"
  },
  "cells": [
    {
      "cell_type": "markdown",
      "metadata": {
        "id": "view-in-github",
        "colab_type": "text"
      },
      "source": [
        "<a href=\"https://colab.research.google.com/github/sriramofficial9/deep-learning/blob/main/CNN.ipynb\" target=\"_parent\"><img src=\"https://colab.research.google.com/assets/colab-badge.svg\" alt=\"Open In Colab\"/></a>"
      ]
    },
    {
      "cell_type": "code",
      "metadata": {
        "id": "YryB7zQC4uGE"
      },
      "source": [
        "import tensorflow as tf\n",
        "from tensorflow.keras import datasets, layers, models\n",
        "import matplotlib.pyplot as plt\n",
        "import numpy as np"
      ],
      "execution_count": null,
      "outputs": []
    },
    {
      "cell_type": "code",
      "metadata": {
        "colab": {
          "base_uri": "https://localhost:8080/"
        },
        "id": "IxwFvXrp4xM0",
        "outputId": "338111f3-e64f-4b73-b149-28027f3ee4e7"
      },
      "source": [
        "(X_train, y_train), (X_test,y_test) = datasets.cifar10.load_data()\n",
        "X_train.shape"
      ],
      "execution_count": null,
      "outputs": [
        {
          "output_type": "stream",
          "text": [
            "Downloading data from https://www.cs.toronto.edu/~kriz/cifar-10-python.tar.gz\n",
            "170500096/170498071 [==============================] - 4s 0us/step\n"
          ],
          "name": "stdout"
        },
        {
          "output_type": "execute_result",
          "data": {
            "text/plain": [
              "(50000, 32, 32, 3)"
            ]
          },
          "metadata": {
            "tags": []
          },
          "execution_count": 5
        }
      ]
    },
    {
      "cell_type": "code",
      "metadata": {
        "colab": {
          "base_uri": "https://localhost:8080/"
        },
        "id": "aA1AlbMXUyee",
        "outputId": "f89c6c83-b16b-489f-c002-8ca1291d550c"
      },
      "source": [
        "X_train.shape"
      ],
      "execution_count": null,
      "outputs": [
        {
          "output_type": "execute_result",
          "data": {
            "text/plain": [
              "(50000, 32, 32, 3)"
            ]
          },
          "metadata": {
            "tags": []
          },
          "execution_count": 6
        }
      ]
    },
    {
      "cell_type": "code",
      "metadata": {
        "colab": {
          "base_uri": "https://localhost:8080/"
        },
        "id": "o5lUyTEdU9E8",
        "outputId": "533f33ba-50f0-4730-a674-51f5d6b06206"
      },
      "source": [
        "X_test.shape"
      ],
      "execution_count": null,
      "outputs": [
        {
          "output_type": "execute_result",
          "data": {
            "text/plain": [
              "(10000, 32, 32, 3)"
            ]
          },
          "metadata": {
            "tags": []
          },
          "execution_count": 7
        }
      ]
    },
    {
      "cell_type": "code",
      "metadata": {
        "colab": {
          "base_uri": "https://localhost:8080/"
        },
        "id": "v1-31kkxVSe2",
        "outputId": "6115e92f-a491-4122-e325-ce56f0094d25"
      },
      "source": [
        "y_train.shape"
      ],
      "execution_count": null,
      "outputs": [
        {
          "output_type": "execute_result",
          "data": {
            "text/plain": [
              "(50000, 1)"
            ]
          },
          "metadata": {
            "tags": []
          },
          "execution_count": 8
        }
      ]
    },
    {
      "cell_type": "code",
      "metadata": {
        "colab": {
          "base_uri": "https://localhost:8080/"
        },
        "id": "EVUu1jqIVbNW",
        "outputId": "8b262e24-0bd4-435e-8696-2425727491a0"
      },
      "source": [
        "y_train[:3]"
      ],
      "execution_count": null,
      "outputs": [
        {
          "output_type": "execute_result",
          "data": {
            "text/plain": [
              "array([[6],\n",
              "       [9],\n",
              "       [9]], dtype=uint8)"
            ]
          },
          "metadata": {
            "tags": []
          },
          "execution_count": 9
        }
      ]
    },
    {
      "cell_type": "code",
      "metadata": {
        "id": "KVFBXaX0VfL_"
      },
      "source": [
        "y_train=y_train.reshape(-1,)"
      ],
      "execution_count": null,
      "outputs": []
    },
    {
      "cell_type": "code",
      "metadata": {
        "colab": {
          "base_uri": "https://localhost:8080/"
        },
        "id": "z1lxGe2SVkqX",
        "outputId": "9157990e-0ed5-456c-e761-ab7450e19962"
      },
      "source": [
        "y_train[:3]"
      ],
      "execution_count": null,
      "outputs": [
        {
          "output_type": "execute_result",
          "data": {
            "text/plain": [
              "array([6, 9, 9], dtype=uint8)"
            ]
          },
          "metadata": {
            "tags": []
          },
          "execution_count": 11
        }
      ]
    },
    {
      "cell_type": "code",
      "metadata": {
        "id": "TJ5-UlGiVn2J"
      },
      "source": [
        "classes = [\"airplane\",\"automobile\",\"bird\",\"cat\",\"deer\",\"dog\",\"frog\",\"horse\",\"ship\",\"truck\"]"
      ],
      "execution_count": null,
      "outputs": []
    },
    {
      "cell_type": "code",
      "metadata": {
        "id": "rYk6Nr_5V0qw"
      },
      "source": [
        "def sample_image(X, y, index):\n",
        "    plt.figure(figsize = (15,2))\n",
        "    plt.imshow(X[index])\n",
        "    plt.xlabel(classes[y[index]])"
      ],
      "execution_count": null,
      "outputs": []
    },
    {
      "cell_type": "code",
      "metadata": {
        "colab": {
          "base_uri": "https://localhost:8080/",
          "height": 173
        },
        "id": "S6IaMF_rWBtd",
        "outputId": "3014ebf9-962d-4b85-c86e-47666557d49a"
      },
      "source": [
        "sample_image(X_train,y_train,146)"
      ],
      "execution_count": null,
      "outputs": [
        {
          "output_type": "display_data",
          "data": {
            "image/png": "[encoded data removed]",
            "text/plain": [
              "<Figure size 1080x144 with 1 Axes>"
            ]
          },
          "metadata": {
            "tags": [],
            "needs_background": "light"
          }
        }
      ]
    },
    {
      "cell_type": "code",
      "metadata": {
        "colab": {
          "base_uri": "https://localhost:8080/",
          "height": 173
        },
        "id": "3QyDDy0fWKWS",
        "outputId": "08b44f9a-8886-449c-df28-f79f6523f12c"
      },
      "source": [
        "sample_image(X_train,y_train,10)"
      ],
      "execution_count": null,
      "outputs": [
        {
          "output_type": "display_data",
          "data": {
            "image/png": "[encoded data removed]",
            "text/plain": [
              "<Figure size 1080x144 with 1 Axes>"
            ]
          },
          "metadata": {
            "tags": [],
            "needs_background": "light"
          }
        }
      ]
    },
    {
      "cell_type": "code",
      "metadata": {
        "id": "uL35VNV7XDiT"
      },
      "source": [
        "X_train = X_train / 255.0\n",
        "X_test = X_test / 255.0"
      ],
      "execution_count": null,
      "outputs": []
    },
    {
      "cell_type": "code",
      "metadata": {
        "id": "0jzq-LUpXTfM"
      },
      "source": [
        "model = models.Sequential([\n",
        "    layers.Conv2D(filters=32, kernel_size=(3, 3), activation='relu', input_shape=(32, 32, 3)),\n",
        "    layers.MaxPooling2D((2, 2)),\n",
        "    \n",
        "    layers.Conv2D(filters=64, kernel_size=(3, 3), activation='relu'),\n",
        "    layers.MaxPooling2D((2, 2)),\n",
        "\n",
        "    layers.Conv2D(filters=128, kernel_size=(3, 3), activation='relu'),\n",
        "    layers.MaxPooling2D((2, 2)),\n",
        "    \n",
        "    layers.Flatten(),\n",
        "    layers.Dense(64, activation='relu'),\n",
        "    layers.Dense(10, activation='softmax')\n",
        "])"
      ],
      "execution_count": null,
      "outputs": []
    },
    {
      "cell_type": "code",
      "metadata": {
        "id": "XfDWULxrXYoH"
      },
      "source": [
        "model.compile(optimizer='adam',\n",
        "              loss='sparse_categorical_crossentropy',\n",
        "              metrics=['accuracy'])"
      ],
      "execution_count": null,
      "outputs": []
    },
    {
      "cell_type": "code",
      "metadata": {
        "colab": {
          "base_uri": "https://localhost:8080/"
        },
        "id": "WR3zeW_EXhVU",
        "outputId": "ff0fd6d4-0e93-41f8-ce89-bfe37abc4b98"
      },
      "source": [
        "model.fit(X_train, y_train, epochs=50)"
      ],
      "execution_count": null,
      "outputs": [
        {
          "output_type": "stream",
          "text": [
            "Epoch 1/50\n",
            "1563/1563 [==============================] - 36s 3ms/step - loss: 1.5339 - accuracy: 0.4415\n",
            "Epoch 2/50\n",
            "1563/1563 [==============================] - 5s 3ms/step - loss: 1.1406 - accuracy: 0.5973\n",
            "Epoch 3/50\n",
            "1563/1563 [==============================] - 5s 3ms/step - loss: 0.9749 - accuracy: 0.6602\n",
            "Epoch 4/50\n",
            "1563/1563 [==============================] - 5s 3ms/step - loss: 0.8670 - accuracy: 0.6991\n",
            "Epoch 5/50\n",
            "1563/1563 [==============================] - 5s 3ms/step - loss: 0.7805 - accuracy: 0.7284\n",
            "Epoch 6/50\n",
            "1563/1563 [==============================] - 5s 3ms/step - loss: 0.7189 - accuracy: 0.7493\n",
            "Epoch 7/50\n",
            "1563/1563 [==============================] - 5s 3ms/step - loss: 0.6589 - accuracy: 0.7717\n",
            "Epoch 8/50\n",
            "1563/1563 [==============================] - 5s 3ms/step - loss: 0.6119 - accuracy: 0.7866\n",
            "Epoch 9/50\n",
            "1563/1563 [==============================] - 5s 3ms/step - loss: 0.5705 - accuracy: 0.8006\n",
            "Epoch 10/50\n",
            "1563/1563 [==============================] - 5s 3ms/step - loss: 0.5243 - accuracy: 0.8160\n",
            "Epoch 11/50\n",
            "1563/1563 [==============================] - 5s 3ms/step - loss: 0.4902 - accuracy: 0.8281\n",
            "Epoch 12/50\n",
            "1563/1563 [==============================] - 5s 3ms/step - loss: 0.4580 - accuracy: 0.8397\n",
            "Epoch 13/50\n",
            "1563/1563 [==============================] - 5s 3ms/step - loss: 0.4193 - accuracy: 0.8540\n",
            "Epoch 14/50\n",
            "1563/1563 [==============================] - 5s 3ms/step - loss: 0.3964 - accuracy: 0.8597\n",
            "Epoch 15/50\n",
            "1563/1563 [==============================] - 5s 3ms/step - loss: 0.3626 - accuracy: 0.8703\n",
            "Epoch 16/50\n",
            "1563/1563 [==============================] - 5s 3ms/step - loss: 0.3386 - accuracy: 0.8790\n",
            "Epoch 17/50\n",
            "1563/1563 [==============================] - 5s 3ms/step - loss: 0.3129 - accuracy: 0.8879\n",
            "Epoch 18/50\n",
            "1563/1563 [==============================] - 5s 3ms/step - loss: 0.2910 - accuracy: 0.8958\n",
            "Epoch 19/50\n",
            "1563/1563 [==============================] - 5s 3ms/step - loss: 0.2725 - accuracy: 0.9034\n",
            "Epoch 20/50\n",
            "1563/1563 [==============================] - 5s 3ms/step - loss: 0.2522 - accuracy: 0.9099\n",
            "Epoch 21/50\n",
            "1563/1563 [==============================] - 5s 3ms/step - loss: 0.2431 - accuracy: 0.9121\n",
            "Epoch 22/50\n",
            "1563/1563 [==============================] - 5s 3ms/step - loss: 0.2276 - accuracy: 0.9175\n",
            "Epoch 23/50\n",
            "1563/1563 [==============================] - 5s 3ms/step - loss: 0.2127 - accuracy: 0.9241\n",
            "Epoch 24/50\n",
            "1563/1563 [==============================] - 5s 3ms/step - loss: 0.2044 - accuracy: 0.9267\n",
            "Epoch 25/50\n",
            "1563/1563 [==============================] - 5s 3ms/step - loss: 0.1925 - accuracy: 0.9309\n",
            "Epoch 26/50\n",
            "1563/1563 [==============================] - 5s 3ms/step - loss: 0.1783 - accuracy: 0.9348\n",
            "Epoch 27/50\n",
            "1563/1563 [==============================] - 5s 3ms/step - loss: 0.1762 - accuracy: 0.9371\n",
            "Epoch 28/50\n",
            "1563/1563 [==============================] - 5s 3ms/step - loss: 0.1717 - accuracy: 0.9374\n",
            "Epoch 29/50\n",
            "1563/1563 [==============================] - 5s 3ms/step - loss: 0.1587 - accuracy: 0.9430\n",
            "Epoch 30/50\n",
            "1563/1563 [==============================] - 5s 3ms/step - loss: 0.1632 - accuracy: 0.9412\n",
            "Epoch 31/50\n",
            "1563/1563 [==============================] - 5s 3ms/step - loss: 0.1489 - accuracy: 0.9464\n",
            "Epoch 32/50\n",
            "1563/1563 [==============================] - 5s 3ms/step - loss: 0.1494 - accuracy: 0.9480\n",
            "Epoch 33/50\n",
            "1563/1563 [==============================] - 5s 3ms/step - loss: 0.1392 - accuracy: 0.9513\n",
            "Epoch 34/50\n",
            "1563/1563 [==============================] - 5s 3ms/step - loss: 0.1376 - accuracy: 0.9514\n",
            "Epoch 35/50\n",
            "1563/1563 [==============================] - 5s 3ms/step - loss: 0.1360 - accuracy: 0.9519\n",
            "Epoch 36/50\n",
            "1563/1563 [==============================] - 5s 3ms/step - loss: 0.1385 - accuracy: 0.9507\n",
            "Epoch 37/50\n",
            "1563/1563 [==============================] - 5s 3ms/step - loss: 0.1241 - accuracy: 0.9568\n",
            "Epoch 38/50\n",
            "1563/1563 [==============================] - 5s 3ms/step - loss: 0.1292 - accuracy: 0.9544\n",
            "Epoch 39/50\n",
            "1563/1563 [==============================] - 5s 3ms/step - loss: 0.1154 - accuracy: 0.9587\n",
            "Epoch 40/50\n",
            "1563/1563 [==============================] - 5s 3ms/step - loss: 0.1252 - accuracy: 0.9562\n",
            "Epoch 41/50\n",
            "1563/1563 [==============================] - 5s 3ms/step - loss: 0.1126 - accuracy: 0.9601\n",
            "Epoch 42/50\n",
            "1563/1563 [==============================] - 5s 3ms/step - loss: 0.1195 - accuracy: 0.9583\n",
            "Epoch 43/50\n",
            "1563/1563 [==============================] - 5s 3ms/step - loss: 0.1143 - accuracy: 0.9602\n",
            "Epoch 44/50\n",
            "1563/1563 [==============================] - 5s 3ms/step - loss: 0.1112 - accuracy: 0.9615\n",
            "Epoch 45/50\n",
            "1563/1563 [==============================] - 5s 3ms/step - loss: 0.1118 - accuracy: 0.9620\n",
            "Epoch 46/50\n",
            "1563/1563 [==============================] - 5s 3ms/step - loss: 0.1048 - accuracy: 0.9626\n",
            "Epoch 47/50\n",
            "1563/1563 [==============================] - 5s 3ms/step - loss: 0.1118 - accuracy: 0.9622\n",
            "Epoch 48/50\n",
            "1563/1563 [==============================] - 5s 3ms/step - loss: 0.1085 - accuracy: 0.9624\n",
            "Epoch 49/50\n",
            "1563/1563 [==============================] - 5s 3ms/step - loss: 0.0946 - accuracy: 0.9666\n",
            "Epoch 50/50\n",
            "1563/1563 [==============================] - 5s 3ms/step - loss: 0.1139 - accuracy: 0.9605\n"
          ],
          "name": "stdout"
        },
        {
          "output_type": "execute_result",
          "data": {
            "text/plain": [
              "<tensorflow.python.keras.callbacks.History at 0x7f05581e4fd0>"
            ]
          },
          "metadata": {
            "tags": []
          },
          "execution_count": 19
        }
      ]
    },
    {
      "cell_type": "code",
      "metadata": {
        "colab": {
          "base_uri": "https://localhost:8080/"
        },
        "id": "--sFjFFMXkae",
        "outputId": "088bf2d9-6e11-4055-97ac-06463df59b1b"
      },
      "source": [
        "\n",
        "model.evaluate(X_test,y_test)"
      ],
      "execution_count": null,
      "outputs": [
        {
          "output_type": "stream",
          "text": [
            "313/313 [==============================] - 1s 2ms/step - loss: 2.4961 - accuracy: 0.6946\n"
          ],
          "name": "stdout"
        },
        {
          "output_type": "execute_result",
          "data": {
            "text/plain": [
              "[2.4960832595825195, 0.694599986076355]"
            ]
          },
          "metadata": {
            "tags": []
          },
          "execution_count": 20
        }
      ]
    },
    {
      "cell_type": "code",
      "metadata": {
        "colab": {
          "base_uri": "https://localhost:8080/"
        },
        "id": "N0cppqsYXyX1",
        "outputId": "73418d34-e3c6-4b46-ec22-0ff15ea9a02e"
      },
      "source": [
        "y_pred = model.predict(X_test)\n",
        "y_pred[:5]"
      ],
      "execution_count": null,
      "outputs": [
        {
          "output_type": "execute_result",
          "data": {
            "text/plain": [
              "array([[3.6892597e-02, 3.8645624e-09, 2.2261645e-06, 9.6272629e-01,\n",
              "        3.1997280e-07, 3.7769962e-04, 2.2572051e-08, 5.0279956e-15,\n",
              "        5.7896460e-07, 2.0409864e-07],\n",
              "       [1.0759451e-09, 1.4386845e-12, 2.2065268e-23, 2.9516389e-20,\n",
              "        1.5783624e-20, 3.8607966e-27, 4.5452356e-31, 1.1146967e-21,\n",
              "        1.0000000e+00, 2.8146322e-12],\n",
              "       [1.4572819e-03, 1.0717706e-02, 1.4628917e-09, 6.8006427e-09,\n",
              "        2.7728183e-07, 3.3444437e-07, 4.6824277e-07, 3.6440344e-08,\n",
              "        9.8780966e-01, 1.4194908e-05],\n",
              "       [1.4432932e-02, 8.4047419e-01, 1.4508186e-01, 3.5660989e-07,\n",
              "        9.5391577e-08, 3.8044071e-14, 2.4068997e-06, 2.8826469e-06,\n",
              "        1.3015380e-08, 5.3093918e-06],\n",
              "       [2.0342782e-20, 1.4971500e-24, 1.0743622e-08, 6.5897439e-12,\n",
              "        9.9999964e-01, 1.8004818e-15, 4.0036176e-07, 6.3005978e-30,\n",
              "        9.4030978e-22, 6.8859476e-27]], dtype=float32)"
            ]
          },
          "metadata": {
            "tags": []
          },
          "execution_count": 21
        }
      ]
    },
    {
      "cell_type": "code",
      "metadata": {
        "colab": {
          "base_uri": "https://localhost:8080/"
        },
        "id": "yYZ8uBJEX46e",
        "outputId": "145fdaef-4ebe-4fa3-af5a-045674eadf58"
      },
      "source": [
        "\n",
        "y_classes = [np.argmax(element) for element in y_pred]\n",
        "y_classes[:5]"
      ],
      "execution_count": null,
      "outputs": [
        {
          "output_type": "execute_result",
          "data": {
            "text/plain": [
              "[3, 8, 8, 1, 4]"
            ]
          },
          "metadata": {
            "tags": []
          },
          "execution_count": 22
        }
      ]
    },
    {
      "cell_type": "code",
      "metadata": {
        "colab": {
          "base_uri": "https://localhost:8080/"
        },
        "id": "A202UdR9X7Yl",
        "outputId": "5c83d3a2-118d-410a-93fc-04248e88e7e1"
      },
      "source": [
        "\n",
        "y_test[:5]"
      ],
      "execution_count": null,
      "outputs": [
        {
          "output_type": "execute_result",
          "data": {
            "text/plain": [
              "array([[3],\n",
              "       [8],\n",
              "       [8],\n",
              "       [0],\n",
              "       [6]], dtype=uint8)"
            ]
          },
          "metadata": {
            "tags": []
          },
          "execution_count": 23
        }
      ]
    },
    {
      "cell_type": "code",
      "metadata": {
        "id": "W6g0y5J0ZMGj"
      },
      "source": [
        "y_test=y_test.reshape(-1,)"
      ],
      "execution_count": null,
      "outputs": []
    },
    {
      "cell_type": "code",
      "metadata": {
        "colab": {
          "base_uri": "https://localhost:8080/",
          "height": 173
        },
        "id": "2_pEePkdY4AN",
        "outputId": "44d798e9-3bbc-4162-a96e-48253b6a0381"
      },
      "source": [
        "sample_image(X_test,y_test,7)"
      ],
      "execution_count": null,
      "outputs": [
        {
          "output_type": "display_data",
          "data": {
            "image/png": "[encoded data removed]",
            "text/plain": [
              "<Figure size 1080x144 with 1 Axes>"
            ]
          },
          "metadata": {
            "tags": [],
            "needs_background": "light"
          }
        }
      ]
    },
    {
      "cell_type": "code",
      "metadata": {
        "colab": {
          "base_uri": "https://localhost:8080/",
          "height": 35
        },
        "id": "PgyG7JcNYBeS",
        "outputId": "17e66b3d-361c-41b0-ba71-870704aaea6a"
      },
      "source": [
        "\n",
        "classes[y_classes[7]]"
      ],
      "execution_count": null,
      "outputs": [
        {
          "output_type": "execute_result",
          "data": {
            "application/vnd.google.colaboratory.intrinsic+json": {
              "type": "string"
            },
            "text/plain": [
              "'bird'"
            ]
          },
          "metadata": {
            "tags": []
          },
          "execution_count": 26
        }
      ]
    },
    {
      "cell_type": "code",
      "metadata": {
        "colab": {
          "base_uri": "https://localhost:8080/"
        },
        "id": "VSTTfe7dbVMK",
        "outputId": "1832a76e-4fe6-4837-e0a2-231823155178"
      },
      "source": [
        "\n",
        "from sklearn.metrics import confusion_matrix , classification_report\n",
        "import numpy as np\n",
        "y_pred = model.predict(X_test)\n",
        "y_pred_classes = [np.argmax(element) for element in y_pred]\n",
        "\n",
        "print(\"Classification Report: \\n\", classification_report(y_test, y_pred_classes))"
      ],
      "execution_count": null,
      "outputs": [
        {
          "output_type": "stream",
          "text": [
            "Classification Report: \n",
            "               precision    recall  f1-score   support\n",
            "\n",
            "           0       0.70      0.78      0.74      1000\n",
            "           1       0.87      0.80      0.83      1000\n",
            "           2       0.52      0.67      0.58      1000\n",
            "           3       0.52      0.57      0.55      1000\n",
            "           4       0.63      0.66      0.64      1000\n",
            "           5       0.69      0.51      0.59      1000\n",
            "           6       0.73      0.78      0.76      1000\n",
            "           7       0.80      0.63      0.71      1000\n",
            "           8       0.79      0.81      0.80      1000\n",
            "           9       0.81      0.73      0.77      1000\n",
            "\n",
            "    accuracy                           0.69     10000\n",
            "   macro avg       0.71      0.69      0.70     10000\n",
            "weighted avg       0.71      0.69      0.70     10000\n",
            "\n"
          ],
          "name": "stdout"
        }
      ]
    },
    {
      "cell_type": "code",
      "metadata": {
        "colab": {
          "base_uri": "https://localhost:8080/"
        },
        "id": "Is9xCoIIbteY",
        "outputId": "a226707f-8b12-41b7-e5da-eec1637588b1"
      },
      "source": [
        "from sklearn.metrics import confusion_matrix, accuracy_score\n",
        "cm = confusion_matrix(y_test, y_pred_classes)\n",
        "print(cm)\n",
        "accuracy_score(y_test, y_pred_classes)"
      ],
      "execution_count": null,
      "outputs": [
        {
          "output_type": "stream",
          "text": [
            "[[778  14  62  19  20   4  18   6  56  23]\n",
            " [ 28 801  18   6   4   7  13   7  34  82]\n",
            " [ 58   5 666  64  86  32  53  18  15   3]\n",
            " [ 27   3 118 572  61  84  74  32  17  12]\n",
            " [ 30   2 121  69 660  17  56  30  12   3]\n",
            " [ 15   1 107 209  51 512  36  51  14   4]\n",
            " [ 12   4  66  61  45  11 781   3  12   5]\n",
            " [ 24   5  68  62 112  60  14 633   9  13]\n",
            " [ 85  20  24  18   7   2   4   1 814  25]\n",
            " [ 59  64  34  15   8  12  17   9  53 729]]\n"
          ],
          "name": "stdout"
        },
        {
          "output_type": "execute_result",
          "data": {
            "text/plain": [
              "0.6946"
            ]
          },
          "metadata": {
            "tags": []
          },
          "execution_count": 28
        }
      ]
    },
    {
      "cell_type": "code",
      "metadata": {
        "id": "ix2_TEoPbxzu"
      },
      "source": [
        "model.save('my_model.hdf5') "
      ],
      "execution_count": null,
      "outputs": []
    }
  ]
}